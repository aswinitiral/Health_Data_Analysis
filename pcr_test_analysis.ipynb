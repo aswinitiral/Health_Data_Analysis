{
 "cells": [
  {
   "attachments": {},
   "cell_type": "markdown",
   "metadata": {},
   "source": [
    "## Import Pandas library and read CSV DataSet\n"
   ]
  },
  {
   "cell_type": "code",
   "execution_count": 177,
   "metadata": {},
   "outputs": [],
   "source": [
    "import pandas as pd\n",
    "df = pd.read_csv('pcr_dataset.csv')"
   ]
  },
  {
   "cell_type": "code",
   "execution_count": 178,
   "metadata": {},
   "outputs": [
    {
     "data": {
      "text/html": [
       "<div>\n",
       "<style scoped>\n",
       "    .dataframe tbody tr th:only-of-type {\n",
       "        vertical-align: middle;\n",
       "    }\n",
       "\n",
       "    .dataframe tbody tr th {\n",
       "        vertical-align: top;\n",
       "    }\n",
       "\n",
       "    .dataframe thead th {\n",
       "        text-align: right;\n",
       "    }\n",
       "</style>\n",
       "<table border=\"1\" class=\"dataframe\">\n",
       "  <thead>\n",
       "    <tr style=\"text-align: right;\">\n",
       "      <th></th>\n",
       "      <th>state</th>\n",
       "      <th>state_name</th>\n",
       "      <th>state_fips</th>\n",
       "      <th>fema_region</th>\n",
       "      <th>overall_outcome</th>\n",
       "      <th>date</th>\n",
       "      <th>new_results_reported</th>\n",
       "      <th>total_results_reported</th>\n",
       "      <th>geocoded_state</th>\n",
       "    </tr>\n",
       "  </thead>\n",
       "  <tbody>\n",
       "    <tr>\n",
       "      <th>0</th>\n",
       "      <td>AL</td>\n",
       "      <td>Alabama</td>\n",
       "      <td>1</td>\n",
       "      <td>Region 4</td>\n",
       "      <td>Negative</td>\n",
       "      <td>2020/03/01</td>\n",
       "      <td>96</td>\n",
       "      <td>96</td>\n",
       "      <td>NaN</td>\n",
       "    </tr>\n",
       "    <tr>\n",
       "      <th>1</th>\n",
       "      <td>AL</td>\n",
       "      <td>Alabama</td>\n",
       "      <td>1</td>\n",
       "      <td>Region 4</td>\n",
       "      <td>Positive</td>\n",
       "      <td>2020/03/01</td>\n",
       "      <td>16</td>\n",
       "      <td>16</td>\n",
       "      <td>NaN</td>\n",
       "    </tr>\n",
       "    <tr>\n",
       "      <th>2</th>\n",
       "      <td>AL</td>\n",
       "      <td>Alabama</td>\n",
       "      <td>1</td>\n",
       "      <td>Region 4</td>\n",
       "      <td>Negative</td>\n",
       "      <td>2020/03/02</td>\n",
       "      <td>72</td>\n",
       "      <td>168</td>\n",
       "      <td>NaN</td>\n",
       "    </tr>\n",
       "    <tr>\n",
       "      <th>3</th>\n",
       "      <td>AL</td>\n",
       "      <td>Alabama</td>\n",
       "      <td>1</td>\n",
       "      <td>Region 4</td>\n",
       "      <td>Positive</td>\n",
       "      <td>2020/03/02</td>\n",
       "      <td>6</td>\n",
       "      <td>22</td>\n",
       "      <td>NaN</td>\n",
       "    </tr>\n",
       "    <tr>\n",
       "      <th>4</th>\n",
       "      <td>AL</td>\n",
       "      <td>Alabama</td>\n",
       "      <td>1</td>\n",
       "      <td>Region 4</td>\n",
       "      <td>Negative</td>\n",
       "      <td>2020/03/03</td>\n",
       "      <td>94</td>\n",
       "      <td>262</td>\n",
       "      <td>NaN</td>\n",
       "    </tr>\n",
       "    <tr>\n",
       "      <th>...</th>\n",
       "      <td>...</td>\n",
       "      <td>...</td>\n",
       "      <td>...</td>\n",
       "      <td>...</td>\n",
       "      <td>...</td>\n",
       "      <td>...</td>\n",
       "      <td>...</td>\n",
       "      <td>...</td>\n",
       "      <td>...</td>\n",
       "    </tr>\n",
       "    <tr>\n",
       "      <th>186844</th>\n",
       "      <td>WY</td>\n",
       "      <td>Wyoming</td>\n",
       "      <td>56</td>\n",
       "      <td>Region 8</td>\n",
       "      <td>Negative</td>\n",
       "      <td>2023/04/20</td>\n",
       "      <td>119</td>\n",
       "      <td>1436045</td>\n",
       "      <td>NaN</td>\n",
       "    </tr>\n",
       "    <tr>\n",
       "      <th>186845</th>\n",
       "      <td>WY</td>\n",
       "      <td>Wyoming</td>\n",
       "      <td>56</td>\n",
       "      <td>Region 8</td>\n",
       "      <td>Positive</td>\n",
       "      <td>2023/04/20</td>\n",
       "      <td>10</td>\n",
       "      <td>137792</td>\n",
       "      <td>NaN</td>\n",
       "    </tr>\n",
       "    <tr>\n",
       "      <th>186846</th>\n",
       "      <td>WY</td>\n",
       "      <td>Wyoming</td>\n",
       "      <td>56</td>\n",
       "      <td>Region 8</td>\n",
       "      <td>Inconclusive</td>\n",
       "      <td>2023/04/21</td>\n",
       "      <td>0</td>\n",
       "      <td>4013</td>\n",
       "      <td>NaN</td>\n",
       "    </tr>\n",
       "    <tr>\n",
       "      <th>186847</th>\n",
       "      <td>WY</td>\n",
       "      <td>Wyoming</td>\n",
       "      <td>56</td>\n",
       "      <td>Region 8</td>\n",
       "      <td>Negative</td>\n",
       "      <td>2023/04/21</td>\n",
       "      <td>28</td>\n",
       "      <td>1436073</td>\n",
       "      <td>NaN</td>\n",
       "    </tr>\n",
       "    <tr>\n",
       "      <th>186848</th>\n",
       "      <td>WY</td>\n",
       "      <td>Wyoming</td>\n",
       "      <td>56</td>\n",
       "      <td>Region 8</td>\n",
       "      <td>Positive</td>\n",
       "      <td>2023/04/21</td>\n",
       "      <td>1</td>\n",
       "      <td>137793</td>\n",
       "      <td>NaN</td>\n",
       "    </tr>\n",
       "  </tbody>\n",
       "</table>\n",
       "<p>186849 rows × 9 columns</p>\n",
       "</div>"
      ],
      "text/plain": [
       "       state state_name  state_fips fema_region overall_outcome        date  \\\n",
       "0         AL    Alabama           1    Region 4        Negative  2020/03/01   \n",
       "1         AL    Alabama           1    Region 4        Positive  2020/03/01   \n",
       "2         AL    Alabama           1    Region 4        Negative  2020/03/02   \n",
       "3         AL    Alabama           1    Region 4        Positive  2020/03/02   \n",
       "4         AL    Alabama           1    Region 4        Negative  2020/03/03   \n",
       "...      ...        ...         ...         ...             ...         ...   \n",
       "186844    WY    Wyoming          56    Region 8        Negative  2023/04/20   \n",
       "186845    WY    Wyoming          56    Region 8        Positive  2023/04/20   \n",
       "186846    WY    Wyoming          56    Region 8    Inconclusive  2023/04/21   \n",
       "186847    WY    Wyoming          56    Region 8        Negative  2023/04/21   \n",
       "186848    WY    Wyoming          56    Region 8        Positive  2023/04/21   \n",
       "\n",
       "        new_results_reported  total_results_reported  geocoded_state  \n",
       "0                         96                      96             NaN  \n",
       "1                         16                      16             NaN  \n",
       "2                         72                     168             NaN  \n",
       "3                          6                      22             NaN  \n",
       "4                         94                     262             NaN  \n",
       "...                      ...                     ...             ...  \n",
       "186844                   119                 1436045             NaN  \n",
       "186845                    10                  137792             NaN  \n",
       "186846                     0                    4013             NaN  \n",
       "186847                    28                 1436073             NaN  \n",
       "186848                     1                  137793             NaN  \n",
       "\n",
       "[186849 rows x 9 columns]"
      ]
     },
     "execution_count": 178,
     "metadata": {},
     "output_type": "execute_result"
    }
   ],
   "source": [
    "df\n",
    "\n",
    "\n"
   ]
  },
  {
   "attachments": {},
   "cell_type": "markdown",
   "metadata": {},
   "source": [
    "## PCR Data Analysis for the following key metrics"
   ]
  },
  {
   "attachments": {},
   "cell_type": "markdown",
   "metadata": {},
   "source": [
    "#### Find the total number of PCR tests performed as of yesterday in the United States. Metric 1"
   ]
  },
  {
   "cell_type": "code",
   "execution_count": 179,
   "metadata": {},
   "outputs": [
    {
     "data": {
      "text/plain": [
       "1038952225"
      ]
     },
     "execution_count": 179,
     "metadata": {},
     "output_type": "execute_result"
    }
   ],
   "source": [
    "total_no_of_pcr_tests=df['new_results_reported'].sum()\n",
    "total_no_of_pcr_tests"
   ]
  },
  {
   "attachments": {},
   "cell_type": "markdown",
   "metadata": {},
   "source": [
    "#### The 7-day rolling average number of new cases per day for the last 30 days. Metric 2\n",
    "#### Filter Positive cases , calculate rolling avg for 7 days for the last 30 days"
   ]
  },
  {
   "cell_type": "code",
   "execution_count": 180,
   "metadata": {},
   "outputs": [],
   "source": [
    "positive_cases_df= df[df['overall_outcome'] == 'Positive']"
   ]
  },
  {
   "cell_type": "code",
   "execution_count": 184,
   "metadata": {},
   "outputs": [],
   "source": [
    "avg_number_of_new_cases_per_day = positive_cases_df.set_index('date')['new_results_reported'].rolling(window=7).mean().tail(30)"
   ]
  },
  {
   "cell_type": "code",
   "execution_count": 185,
   "metadata": {},
   "outputs": [
    {
     "data": {
      "text/plain": [
       "date\n",
       "2023/03/23    17.428571\n",
       "2023/03/24    17.714286\n",
       "2023/03/25    18.000000\n",
       "2023/03/26    18.714286\n",
       "2023/03/27    17.000000\n",
       "2023/03/28    16.285714\n",
       "2023/03/29    13.857143\n",
       "2023/03/30    15.142857\n",
       "2023/03/31    14.714286\n",
       "2023/04/01    14.571429\n",
       "2023/04/02    13.571429\n",
       "2023/04/03    14.142857\n",
       "2023/04/04    13.285714\n",
       "2023/04/05    12.857143\n",
       "2023/04/06    11.571429\n",
       "2023/04/07    12.428571\n",
       "2023/04/08    12.714286\n",
       "2023/04/09    13.428571\n",
       "2023/04/10    13.857143\n",
       "2023/04/11    16.285714\n",
       "2023/04/12    16.714286\n",
       "2023/04/13    17.571429\n",
       "2023/04/14    16.285714\n",
       "2023/04/15    17.000000\n",
       "2023/04/16    16.714286\n",
       "2023/04/17    14.285714\n",
       "2023/04/18    12.857143\n",
       "2023/04/19    13.714286\n",
       "2023/04/20    12.142857\n",
       "2023/04/21    10.857143\n",
       "Name: new_results_reported, dtype: float64"
      ]
     },
     "execution_count": 185,
     "metadata": {},
     "output_type": "execute_result"
    }
   ],
   "source": [
    "avg_number_of_new_cases_per_day"
   ]
  },
  {
   "attachments": {},
   "cell_type": "markdown",
   "metadata": {},
   "source": [
    "#### Sum of Total Average Rate for positive case "
   ]
  },
  {
   "cell_type": "code",
   "execution_count": 186,
   "metadata": {},
   "outputs": [
    {
     "data": {
      "text/plain": [
       "14.857142857142858"
      ]
     },
     "execution_count": 186,
     "metadata": {},
     "output_type": "execute_result"
    }
   ],
   "source": [
    "avg_number_of_new_cases_per_day.sum()/30\n"
   ]
  },
  {
   "attachments": {},
   "cell_type": "markdown",
   "metadata": {},
   "source": [
    "#### The 10 states with the highest test positivity rate (positive tests / tests performed) for tests performed in the last 30 days. Metric 3"
   ]
  },
  {
   "attachments": {},
   "cell_type": "markdown",
   "metadata": {},
   "source": [
    "#### Convert date string to datetime and find maximum date"
   ]
  },
  {
   "cell_type": "code",
   "execution_count": 158,
   "metadata": {},
   "outputs": [],
   "source": [
    "df['date'] = pd.to_datetime(df['date'])\n",
    "max_date = df['date'].max()"
   ]
  },
  {
   "cell_type": "code",
   "execution_count": 159,
   "metadata": {},
   "outputs": [
    {
     "data": {
      "text/plain": [
       "Timestamp('2023-04-21 00:00:00')"
      ]
     },
     "execution_count": 159,
     "metadata": {},
     "output_type": "execute_result"
    }
   ],
   "source": [
    "max_date"
   ]
  },
  {
   "attachments": {},
   "cell_type": "markdown",
   "metadata": {},
   "source": [
    "#### Filter last 30 days for each state using df"
   ]
  },
  {
   "cell_type": "code",
   "execution_count": 160,
   "metadata": {},
   "outputs": [],
   "source": [
    "df = df[df['date'] >= max_date - pd.Timedelta(days=30)]"
   ]
  },
  {
   "cell_type": "code",
   "execution_count": 161,
   "metadata": {},
   "outputs": [
    {
     "data": {
      "text/html": [
       "<div>\n",
       "<style scoped>\n",
       "    .dataframe tbody tr th:only-of-type {\n",
       "        vertical-align: middle;\n",
       "    }\n",
       "\n",
       "    .dataframe tbody tr th {\n",
       "        vertical-align: top;\n",
       "    }\n",
       "\n",
       "    .dataframe thead th {\n",
       "        text-align: right;\n",
       "    }\n",
       "</style>\n",
       "<table border=\"1\" class=\"dataframe\">\n",
       "  <thead>\n",
       "    <tr style=\"text-align: right;\">\n",
       "      <th></th>\n",
       "      <th>state</th>\n",
       "      <th>state_name</th>\n",
       "      <th>state_fips</th>\n",
       "      <th>fema_region</th>\n",
       "      <th>overall_outcome</th>\n",
       "      <th>date</th>\n",
       "      <th>new_results_reported</th>\n",
       "      <th>total_results_reported</th>\n",
       "      <th>geocoded_state</th>\n",
       "    </tr>\n",
       "  </thead>\n",
       "  <tbody>\n",
       "    <tr>\n",
       "      <th>3336</th>\n",
       "      <td>AL</td>\n",
       "      <td>Alabama</td>\n",
       "      <td>1</td>\n",
       "      <td>Region 4</td>\n",
       "      <td>Inconclusive</td>\n",
       "      <td>2023-03-22</td>\n",
       "      <td>0</td>\n",
       "      <td>18746</td>\n",
       "      <td>NaN</td>\n",
       "    </tr>\n",
       "    <tr>\n",
       "      <th>3337</th>\n",
       "      <td>AL</td>\n",
       "      <td>Alabama</td>\n",
       "      <td>1</td>\n",
       "      <td>Region 4</td>\n",
       "      <td>Negative</td>\n",
       "      <td>2023-03-22</td>\n",
       "      <td>3816</td>\n",
       "      <td>7905708</td>\n",
       "      <td>NaN</td>\n",
       "    </tr>\n",
       "    <tr>\n",
       "      <th>3338</th>\n",
       "      <td>AL</td>\n",
       "      <td>Alabama</td>\n",
       "      <td>1</td>\n",
       "      <td>Region 4</td>\n",
       "      <td>Positive</td>\n",
       "      <td>2023-03-22</td>\n",
       "      <td>211</td>\n",
       "      <td>1284147</td>\n",
       "      <td>NaN</td>\n",
       "    </tr>\n",
       "    <tr>\n",
       "      <th>3339</th>\n",
       "      <td>AL</td>\n",
       "      <td>Alabama</td>\n",
       "      <td>1</td>\n",
       "      <td>Region 4</td>\n",
       "      <td>Inconclusive</td>\n",
       "      <td>2023-03-23</td>\n",
       "      <td>3</td>\n",
       "      <td>18749</td>\n",
       "      <td>NaN</td>\n",
       "    </tr>\n",
       "    <tr>\n",
       "      <th>3340</th>\n",
       "      <td>AL</td>\n",
       "      <td>Alabama</td>\n",
       "      <td>1</td>\n",
       "      <td>Region 4</td>\n",
       "      <td>Negative</td>\n",
       "      <td>2023-03-23</td>\n",
       "      <td>4038</td>\n",
       "      <td>7909746</td>\n",
       "      <td>NaN</td>\n",
       "    </tr>\n",
       "    <tr>\n",
       "      <th>...</th>\n",
       "      <td>...</td>\n",
       "      <td>...</td>\n",
       "      <td>...</td>\n",
       "      <td>...</td>\n",
       "      <td>...</td>\n",
       "      <td>...</td>\n",
       "      <td>...</td>\n",
       "      <td>...</td>\n",
       "      <td>...</td>\n",
       "    </tr>\n",
       "    <tr>\n",
       "      <th>186844</th>\n",
       "      <td>WY</td>\n",
       "      <td>Wyoming</td>\n",
       "      <td>56</td>\n",
       "      <td>Region 8</td>\n",
       "      <td>Negative</td>\n",
       "      <td>2023-04-20</td>\n",
       "      <td>119</td>\n",
       "      <td>1436045</td>\n",
       "      <td>NaN</td>\n",
       "    </tr>\n",
       "    <tr>\n",
       "      <th>186845</th>\n",
       "      <td>WY</td>\n",
       "      <td>Wyoming</td>\n",
       "      <td>56</td>\n",
       "      <td>Region 8</td>\n",
       "      <td>Positive</td>\n",
       "      <td>2023-04-20</td>\n",
       "      <td>10</td>\n",
       "      <td>137792</td>\n",
       "      <td>NaN</td>\n",
       "    </tr>\n",
       "    <tr>\n",
       "      <th>186846</th>\n",
       "      <td>WY</td>\n",
       "      <td>Wyoming</td>\n",
       "      <td>56</td>\n",
       "      <td>Region 8</td>\n",
       "      <td>Inconclusive</td>\n",
       "      <td>2023-04-21</td>\n",
       "      <td>0</td>\n",
       "      <td>4013</td>\n",
       "      <td>NaN</td>\n",
       "    </tr>\n",
       "    <tr>\n",
       "      <th>186847</th>\n",
       "      <td>WY</td>\n",
       "      <td>Wyoming</td>\n",
       "      <td>56</td>\n",
       "      <td>Region 8</td>\n",
       "      <td>Negative</td>\n",
       "      <td>2023-04-21</td>\n",
       "      <td>28</td>\n",
       "      <td>1436073</td>\n",
       "      <td>NaN</td>\n",
       "    </tr>\n",
       "    <tr>\n",
       "      <th>186848</th>\n",
       "      <td>WY</td>\n",
       "      <td>Wyoming</td>\n",
       "      <td>56</td>\n",
       "      <td>Region 8</td>\n",
       "      <td>Positive</td>\n",
       "      <td>2023-04-21</td>\n",
       "      <td>1</td>\n",
       "      <td>137793</td>\n",
       "      <td>NaN</td>\n",
       "    </tr>\n",
       "  </tbody>\n",
       "</table>\n",
       "<p>4869 rows × 9 columns</p>\n",
       "</div>"
      ],
      "text/plain": [
       "       state state_name  state_fips fema_region overall_outcome       date  \\\n",
       "3336      AL    Alabama           1    Region 4    Inconclusive 2023-03-22   \n",
       "3337      AL    Alabama           1    Region 4        Negative 2023-03-22   \n",
       "3338      AL    Alabama           1    Region 4        Positive 2023-03-22   \n",
       "3339      AL    Alabama           1    Region 4    Inconclusive 2023-03-23   \n",
       "3340      AL    Alabama           1    Region 4        Negative 2023-03-23   \n",
       "...      ...        ...         ...         ...             ...        ...   \n",
       "186844    WY    Wyoming          56    Region 8        Negative 2023-04-20   \n",
       "186845    WY    Wyoming          56    Region 8        Positive 2023-04-20   \n",
       "186846    WY    Wyoming          56    Region 8    Inconclusive 2023-04-21   \n",
       "186847    WY    Wyoming          56    Region 8        Negative 2023-04-21   \n",
       "186848    WY    Wyoming          56    Region 8        Positive 2023-04-21   \n",
       "\n",
       "        new_results_reported  total_results_reported  geocoded_state  \n",
       "3336                       0                   18746             NaN  \n",
       "3337                    3816                 7905708             NaN  \n",
       "3338                     211                 1284147             NaN  \n",
       "3339                       3                   18749             NaN  \n",
       "3340                    4038                 7909746             NaN  \n",
       "...                      ...                     ...             ...  \n",
       "186844                   119                 1436045             NaN  \n",
       "186845                    10                  137792             NaN  \n",
       "186846                     0                    4013             NaN  \n",
       "186847                    28                 1436073             NaN  \n",
       "186848                     1                  137793             NaN  \n",
       "\n",
       "[4869 rows x 9 columns]"
      ]
     },
     "execution_count": 161,
     "metadata": {},
     "output_type": "execute_result"
    }
   ],
   "source": [
    "df"
   ]
  },
  {
   "attachments": {},
   "cell_type": "markdown",
   "metadata": {},
   "source": [
    "#### To find Positive Rate , agg the count for postive cases by state and sum of pcr results by state."
   ]
  },
  {
   "cell_type": "code",
   "execution_count": 162,
   "metadata": {},
   "outputs": [],
   "source": [
    "positive_tests= df[df['overall_outcome'] == 'Positive'].groupby('state_name').size().reset_index(name='count')"
   ]
  },
  {
   "cell_type": "code",
   "execution_count": 163,
   "metadata": {},
   "outputs": [
    {
     "data": {
      "text/plain": [
       "54"
      ]
     },
     "execution_count": 163,
     "metadata": {},
     "output_type": "execute_result"
    }
   ],
   "source": [
    "len(positive_tests)"
   ]
  },
  {
   "cell_type": "code",
   "execution_count": 164,
   "metadata": {},
   "outputs": [],
   "source": [
    "total_tests_performed = df[[\"new_results_reported\",\"state_name\",\"overall_outcome\"]].groupby('state_name')['new_results_reported'].sum().reset_index(name='count')"
   ]
  },
  {
   "cell_type": "code",
   "execution_count": 165,
   "metadata": {},
   "outputs": [
    {
     "data": {
      "text/plain": [
       "54"
      ]
     },
     "execution_count": 165,
     "metadata": {},
     "output_type": "execute_result"
    }
   ],
   "source": [
    "len(total_tests_performed)"
   ]
  },
  {
   "attachments": {},
   "cell_type": "markdown",
   "metadata": {},
   "source": [
    "#### JOIN positive tests count and total tests performed by state "
   ]
  },
  {
   "cell_type": "code",
   "execution_count": 166,
   "metadata": {},
   "outputs": [],
   "source": [
    "merge_df = pd.merge(positive_tests,total_tests_performed , on='state_name', how='inner')"
   ]
  },
  {
   "attachments": {},
   "cell_type": "markdown",
   "metadata": {},
   "source": [
    "#### Calculate Positive Rate = positive tests/total test perfomed"
   ]
  },
  {
   "cell_type": "code",
   "execution_count": 167,
   "metadata": {},
   "outputs": [],
   "source": [
    "rate_df = merge_df.groupby('state_name').agg({'count_x': 'sum', 'count_y': 'sum'})\n",
    "positive_rate=rate_df['count_x'] / rate_df['count_y']"
   ]
  },
  {
   "cell_type": "code",
   "execution_count": 168,
   "metadata": {},
   "outputs": [],
   "source": [
    "percent_positive_rate = positive_rate.apply(lambda x: '{:.2%}'.format(x))"
   ]
  },
  {
   "cell_type": "code",
   "execution_count": 169,
   "metadata": {},
   "outputs": [
    {
     "data": {
      "text/plain": [
       "0.4887053126290494"
      ]
     },
     "execution_count": 169,
     "metadata": {},
     "output_type": "execute_result"
    }
   ],
   "source": [
    "positive_rate.sum()\n"
   ]
  },
  {
   "attachments": {},
   "cell_type": "markdown",
   "metadata": {},
   "source": [
    "#### Using sort to find the top 10 states with highest postive rate"
   ]
  },
  {
   "cell_type": "code",
   "execution_count": 170,
   "metadata": {},
   "outputs": [],
   "source": [
    "sort_df=percent_positive_rate.sort_values(ascending=False).reset_index().head(10)"
   ]
  },
  {
   "cell_type": "code",
   "execution_count": 171,
   "metadata": {},
   "outputs": [
    {
     "data": {
      "text/html": [
       "<div>\n",
       "<style scoped>\n",
       "    .dataframe tbody tr th:only-of-type {\n",
       "        vertical-align: middle;\n",
       "    }\n",
       "\n",
       "    .dataframe tbody tr th {\n",
       "        vertical-align: top;\n",
       "    }\n",
       "\n",
       "    .dataframe thead th {\n",
       "        text-align: right;\n",
       "    }\n",
       "</style>\n",
       "<table border=\"1\" class=\"dataframe\">\n",
       "  <thead>\n",
       "    <tr style=\"text-align: right;\">\n",
       "      <th></th>\n",
       "      <th>state_name</th>\n",
       "      <th>0</th>\n",
       "    </tr>\n",
       "  </thead>\n",
       "  <tbody>\n",
       "    <tr>\n",
       "      <th>0</th>\n",
       "      <td>U.S. Virgin Islands</td>\n",
       "      <td>41.67%</td>\n",
       "    </tr>\n",
       "    <tr>\n",
       "      <th>1</th>\n",
       "      <td>Guam</td>\n",
       "      <td>1.42%</td>\n",
       "    </tr>\n",
       "    <tr>\n",
       "      <th>2</th>\n",
       "      <td>North Dakota</td>\n",
       "      <td>0.64%</td>\n",
       "    </tr>\n",
       "    <tr>\n",
       "      <th>3</th>\n",
       "      <td>Wyoming</td>\n",
       "      <td>0.61%</td>\n",
       "    </tr>\n",
       "    <tr>\n",
       "      <th>4</th>\n",
       "      <td>Iowa</td>\n",
       "      <td>0.51%</td>\n",
       "    </tr>\n",
       "    <tr>\n",
       "      <th>5</th>\n",
       "      <td>Vermont</td>\n",
       "      <td>0.29%</td>\n",
       "    </tr>\n",
       "    <tr>\n",
       "      <th>6</th>\n",
       "      <td>Montana</td>\n",
       "      <td>0.28%</td>\n",
       "    </tr>\n",
       "    <tr>\n",
       "      <th>7</th>\n",
       "      <td>Nebraska</td>\n",
       "      <td>0.21%</td>\n",
       "    </tr>\n",
       "    <tr>\n",
       "      <th>8</th>\n",
       "      <td>Delaware</td>\n",
       "      <td>0.20%</td>\n",
       "    </tr>\n",
       "    <tr>\n",
       "      <th>9</th>\n",
       "      <td>South Dakota</td>\n",
       "      <td>0.20%</td>\n",
       "    </tr>\n",
       "  </tbody>\n",
       "</table>\n",
       "</div>"
      ],
      "text/plain": [
       "            state_name       0\n",
       "0  U.S. Virgin Islands  41.67%\n",
       "1                 Guam   1.42%\n",
       "2         North Dakota   0.64%\n",
       "3              Wyoming   0.61%\n",
       "4                 Iowa   0.51%\n",
       "5              Vermont   0.29%\n",
       "6              Montana   0.28%\n",
       "7             Nebraska   0.21%\n",
       "8             Delaware   0.20%\n",
       "9         South Dakota   0.20%"
      ]
     },
     "execution_count": 171,
     "metadata": {},
     "output_type": "execute_result"
    }
   ],
   "source": [
    "sort_df"
   ]
  }
 ],
 "metadata": {
  "kernelspec": {
   "display_name": "Python 3",
   "language": "python",
   "name": "python3"
  },
  "language_info": {
   "codemirror_mode": {
    "name": "ipython",
    "version": 3
   },
   "file_extension": ".py",
   "mimetype": "text/x-python",
   "name": "python",
   "nbconvert_exporter": "python",
   "pygments_lexer": "ipython3",
   "version": "3.10.11"
  },
  "orig_nbformat": 4,
  "vscode": {
   "interpreter": {
    "hash": "6196e5828f5734e954b5c089eb9da93716fa736a606a349631f8dbdfbbeea9ac"
   }
  }
 },
 "nbformat": 4,
 "nbformat_minor": 2
}
