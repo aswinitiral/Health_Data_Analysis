{
 "cells": [
  {
   "attachments": {},
   "cell_type": "markdown",
   "metadata": {},
   "source": [
    "# PCR_Test_Results"
   ]
  },
  {
   "attachments": {},
   "cell_type": "markdown",
   "metadata": {},
   "source": [
    "#### Find the total number of PCR tests performed as of yesterday in the United States. Metric 1\n",
    "\n",
    "\n",
    "##### 1038952225"
   ]
  },
  {
   "attachments": {},
   "cell_type": "markdown",
   "metadata": {},
   "source": [
    "#### The 7-day rolling average number of new cases per day for the last 30 days. Metric 2 \n"
   ]
  },
  {
   "attachments": {},
   "cell_type": "markdown",
   "metadata": {},
   "source": [
    "\n",
    "\n",
    "2023/03/23    17.428571\n",
    "2023/03/24    17.714286\n",
    "2023/03/25    18.000000\n",
    "2023/03/26    18.714286\n",
    "2023/03/27    17.000000\n",
    "2023/03/28    16.285714\n",
    "2023/03/29    13.857143\n",
    "2023/03/30    15.142857\n",
    "2023/03/31    14.714286\n",
    "2023/04/01    14.571429\n",
    "2023/04/02    13.571429\n",
    "2023/04/03    14.142857\n",
    "2023/04/04    13.285714\n",
    "2023/04/05    12.857143\n",
    "2023/04/06    11.571429\n",
    "2023/04/07    12.428571\n",
    "2023/04/08    12.714286\n",
    "2023/04/09    13.428571\n",
    "2023/04/10    13.857143\n",
    "2023/04/11    16.285714\n",
    "2023/04/12    16.714286\n",
    "2023/04/13    17.571429\n",
    "2023/04/14    16.285714\n",
    "2023/04/15    17.000000\n",
    "2023/04/16    16.714286\n",
    "2023/04/17    14.285714\n",
    "2023/04/18    12.857143\n",
    "2023/04/19    13.714286\n",
    "2023/04/20    12.142857\n",
    "2023/04/21    10.857143\n",
    "\n",
    "\n",
    "\n"
   ]
  },
  {
   "attachments": {},
   "cell_type": "markdown",
   "metadata": {},
   "source": [
    "#### The 10 states with the highest test positivity rate (positive tests / tests performed) for tests performed in the last 30 days. Metric 3\n",
    "\n"
   ]
  },
  {
   "attachments": {},
   "cell_type": "markdown",
   "metadata": {},
   "source": [
    "\n",
    "#### state_name\t0\n",
    "#### 0\tU.S. Virgin Islands\t41.67%\n",
    "#### 1\tGuam\t1.42%\n",
    "#### 2\tNorth Dakota\t0.64%\n",
    "#### 3\tWyoming\t0.61%\n",
    "#### 4\tIowa\t0.51%\n",
    "#### 5\tVermont\t0.29%\n",
    "#### 6\tMontana\t0.28%\n",
    "#### 7\tNebraska\t0.21%\n",
    "#### 8\tDelaware\t0.20%\n",
    "#### 9\tSouth Dakota\t0.20%"
   ]
  }
 ],
 "metadata": {
  "kernelspec": {
   "display_name": "base",
   "language": "python",
   "name": "python3"
  },
  "language_info": {
   "name": "python",
   "version": "3.9.7 (default, Sep 16 2021, 16:59:28) [MSC v.1916 64 bit (AMD64)]"
  },
  "orig_nbformat": 4,
  "vscode": {
   "interpreter": {
    "hash": "a3fde6ed6a6a6e53c38f0d1f2692cb4a5ee306d2c72482d2fc03dcc00c514f48"
   }
  }
 },
 "nbformat": 4,
 "nbformat_minor": 2
}
